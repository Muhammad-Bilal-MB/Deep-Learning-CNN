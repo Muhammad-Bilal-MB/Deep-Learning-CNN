{
 "cells": [
  {
   "cell_type": "code",
   "execution_count": 1,
   "id": "eligible-ocean",
   "metadata": {},
   "outputs": [],
   "source": [
    "import os\n",
    "import shutil\n",
    "import tensorflow as tf\n",
    "import numpy as np\n",
    "import pandas as pd\n",
    "import matplotlib.pyplot as plt\n",
    "import seaborn as sb"
   ]
  },
  {
   "cell_type": "markdown",
   "id": "welsh-might",
   "metadata": {},
   "source": [
    "#### Using Pretrained Model VGG16 "
   ]
  },
  {
   "cell_type": "code",
   "execution_count": 2,
   "id": "atomic-copying",
   "metadata": {},
   "outputs": [],
   "source": [
    "from keras.applications import VGG16\n",
    "\n",
    "conv_base = VGG16(weights='imagenet',\n",
    "            include_top=False,\n",
    "            input_shape=(150, 150, 3))"
   ]
  },
  {
   "cell_type": "code",
   "execution_count": 3,
   "id": "decent-portal",
   "metadata": {},
   "outputs": [
    {
     "name": "stdout",
     "output_type": "stream",
     "text": [
      "Model: \"vgg16\"\n",
      "_________________________________________________________________\n",
      "Layer (type)                 Output Shape              Param #   \n",
      "=================================================================\n",
      "input_1 (InputLayer)         [(None, 150, 150, 3)]     0         \n",
      "_________________________________________________________________\n",
      "block1_conv1 (Conv2D)        (None, 150, 150, 64)      1792      \n",
      "_________________________________________________________________\n",
      "block1_conv2 (Conv2D)        (None, 150, 150, 64)      36928     \n",
      "_________________________________________________________________\n",
      "block1_pool (MaxPooling2D)   (None, 75, 75, 64)        0         \n",
      "_________________________________________________________________\n",
      "block2_conv1 (Conv2D)        (None, 75, 75, 128)       73856     \n",
      "_________________________________________________________________\n",
      "block2_conv2 (Conv2D)        (None, 75, 75, 128)       147584    \n",
      "_________________________________________________________________\n",
      "block2_pool (MaxPooling2D)   (None, 37, 37, 128)       0         \n",
      "_________________________________________________________________\n",
      "block3_conv1 (Conv2D)        (None, 37, 37, 256)       295168    \n",
      "_________________________________________________________________\n",
      "block3_conv2 (Conv2D)        (None, 37, 37, 256)       590080    \n",
      "_________________________________________________________________\n",
      "block3_conv3 (Conv2D)        (None, 37, 37, 256)       590080    \n",
      "_________________________________________________________________\n",
      "block3_pool (MaxPooling2D)   (None, 18, 18, 256)       0         \n",
      "_________________________________________________________________\n",
      "block4_conv1 (Conv2D)        (None, 18, 18, 512)       1180160   \n",
      "_________________________________________________________________\n",
      "block4_conv2 (Conv2D)        (None, 18, 18, 512)       2359808   \n",
      "_________________________________________________________________\n",
      "block4_conv3 (Conv2D)        (None, 18, 18, 512)       2359808   \n",
      "_________________________________________________________________\n",
      "block4_pool (MaxPooling2D)   (None, 9, 9, 512)         0         \n",
      "_________________________________________________________________\n",
      "block5_conv1 (Conv2D)        (None, 9, 9, 512)         2359808   \n",
      "_________________________________________________________________\n",
      "block5_conv2 (Conv2D)        (None, 9, 9, 512)         2359808   \n",
      "_________________________________________________________________\n",
      "block5_conv3 (Conv2D)        (None, 9, 9, 512)         2359808   \n",
      "_________________________________________________________________\n",
      "block5_pool (MaxPooling2D)   (None, 4, 4, 512)         0         \n",
      "=================================================================\n",
      "Total params: 14,714,688\n",
      "Trainable params: 14,714,688\n",
      "Non-trainable params: 0\n",
      "_________________________________________________________________\n"
     ]
    }
   ],
   "source": [
    "conv_base.summary()"
   ]
  },
  {
   "cell_type": "code",
   "execution_count": 4,
   "id": "sticky-birthday",
   "metadata": {},
   "outputs": [],
   "source": [
    "from keras.preprocessing.image import ImageDataGenerator"
   ]
  },
  {
   "cell_type": "code",
   "execution_count": 5,
   "id": "unlimited-linux",
   "metadata": {},
   "outputs": [],
   "source": [
    "base_dir = 'e:/cats_and_dogs_small'\n",
    "train_dir = os.path.join(base_dir, 'train')\n",
    "validation_dir = os.path.join(base_dir, 'validation')\n",
    "test_dir = os.path.join(base_dir, 'test')\n",
    "\n",
    "datagen = ImageDataGenerator(rescale=1./255)\n",
    "batch_size = 20"
   ]
  },
  {
   "cell_type": "markdown",
   "id": "revolutionary-wyoming",
   "metadata": {},
   "source": [
    "#### Feature Extraction"
   ]
  },
  {
   "cell_type": "code",
   "execution_count": 6,
   "id": "gorgeous-cassette",
   "metadata": {},
   "outputs": [],
   "source": [
    "def extract_features(directory, sample_count):\n",
    "    features = np.zeros(shape=(sample_count, 4, 4, 512))\n",
    "    labels = np.zeros(shape=(sample_count))\n",
    "    generator = datagen.flow_from_directory(\n",
    "        directory,\n",
    "        target_size=(150, 150),\n",
    "        batch_size=batch_size,\n",
    "        class_mode='binary')\n",
    "    i=0\n",
    "    for inputs_batch, labels_batch in generator:\n",
    "        features_batch = conv_base.predict(inputs_batch)\n",
    "        features[i * batch_size : (i + 1) * batch_size] = features_batch\n",
    "        labels[i * batch_size : (i + 1) * batch_size] = labels_batch\n",
    "        i += 1\n",
    "        if i * batch_size >= sample_count:\n",
    "            break\n",
    "    return features, labels"
   ]
  },
  {
   "cell_type": "code",
   "execution_count": 7,
   "id": "sacred-pointer",
   "metadata": {},
   "outputs": [
    {
     "name": "stdout",
     "output_type": "stream",
     "text": [
      "Found 2000 images belonging to 2 classes.\n",
      "Found 1000 images belonging to 2 classes.\n",
      "Found 1000 images belonging to 2 classes.\n"
     ]
    }
   ],
   "source": [
    "train_features, train_labels = extract_features(train_dir, 2000)\n",
    "validation_features, validation_labels = extract_features(validation_dir, 1000)\n",
    "test_features, test_labels = extract_features(test_dir, 1000)"
   ]
  },
  {
   "cell_type": "markdown",
   "id": "pediatric-yeast",
   "metadata": {},
   "source": [
    "#### Reshaping Image Tensors"
   ]
  },
  {
   "cell_type": "code",
   "execution_count": 8,
   "id": "criminal-prophet",
   "metadata": {},
   "outputs": [],
   "source": [
    "train_features = np.reshape(train_features, (2000, 4*4* 512))\n",
    "validation_features = np.reshape(validation_features, (1000, 4*4* 512))\n",
    "test_features = np.reshape(test_features, (1000, 4*4* 512))"
   ]
  },
  {
   "cell_type": "code",
   "execution_count": 9,
   "id": "ranging-wales",
   "metadata": {},
   "outputs": [],
   "source": [
    "from keras import models\n",
    "from keras import layers\n",
    "from keras import optimizers\n",
    "\n",
    "model = models.Sequential()\n",
    "model.add(layers.Dense(256, activation='relu', input_dim=4 * 4 * 512))\n",
    "model.add(layers.Dropout(0.5))\n",
    "model.add(layers.Dense(1, activation='sigmoid'))"
   ]
  },
  {
   "cell_type": "code",
   "execution_count": 10,
   "id": "norwegian-mother",
   "metadata": {},
   "outputs": [],
   "source": [
    "model.compile(optimizer=optimizers.RMSprop(lr=2e-5),\n",
    "                loss='binary_crossentropy',\n",
    "                metrics=['acc'])"
   ]
  },
  {
   "cell_type": "code",
   "execution_count": 11,
   "id": "utility-fundamental",
   "metadata": {},
   "outputs": [
    {
     "name": "stdout",
     "output_type": "stream",
     "text": [
      "Epoch 1/30\n",
      "100/100 [==============================] - 5s 53ms/step - loss: 0.6039 - acc: 0.6750 - val_loss: 0.4398 - val_acc: 0.8400\n",
      "Epoch 2/30\n",
      "100/100 [==============================] - 5s 50ms/step - loss: 0.4248 - acc: 0.8155 - val_loss: 0.3696 - val_acc: 0.8450\n",
      "Epoch 3/30\n",
      "100/100 [==============================] - 5s 50ms/step - loss: 0.3596 - acc: 0.8510 - val_loss: 0.3269 - val_acc: 0.8750\n",
      "Epoch 4/30\n",
      "100/100 [==============================] - 5s 49ms/step - loss: 0.3162 - acc: 0.8680 - val_loss: 0.3008 - val_acc: 0.8790\n",
      "Epoch 5/30\n",
      "100/100 [==============================] - 5s 50ms/step - loss: 0.2871 - acc: 0.8885 - val_loss: 0.2784 - val_acc: 0.8910oss: 0.3025 - acc: 0.87 - ETA: 1s - loss: 0.3035 - acc - ETA: 1s - loss: 0.\n",
      "Epoch 6/30\n",
      "100/100 [==============================] - 5s 49ms/step - loss: 0.2646 - acc: 0.8995 - val_loss: 0.2686 - val_acc: 0.8880\n",
      "Epoch 7/30\n",
      "100/100 [==============================] - 5s 49ms/step - loss: 0.2529 - acc: 0.9000 - val_loss: 0.2628 - val_acc: 0.8980\n",
      "Epoch 8/30\n",
      "100/100 [==============================] - 5s 50ms/step - loss: 0.2420 - acc: 0.9075 - val_loss: 0.2578 - val_acc: 0.8950\n",
      "Epoch 9/30\n",
      "100/100 [==============================] - 5s 50ms/step - loss: 0.2180 - acc: 0.9155 - val_loss: 0.2508 - val_acc: 0.8990\n",
      "Epoch 10/30\n",
      "100/100 [==============================] - 5s 51ms/step - loss: 0.2120 - acc: 0.9125 - val_loss: 0.2485 - val_acc: 0.8990\n",
      "Epoch 11/30\n",
      "100/100 [==============================] - 5s 51ms/step - loss: 0.2040 - acc: 0.9280 - val_loss: 0.2489 - val_acc: 0.8960\n",
      "Epoch 12/30\n",
      "100/100 [==============================] - 5s 50ms/step - loss: 0.1896 - acc: 0.9355 - val_loss: 0.2524 - val_acc: 0.8940\n",
      "Epoch 13/30\n",
      "100/100 [==============================] - 6s 56ms/step - loss: 0.1816 - acc: 0.9360 - val_loss: 0.2394 - val_acc: 0.9000\n",
      "Epoch 14/30\n",
      "100/100 [==============================] - 5s 53ms/step - loss: 0.1706 - acc: 0.9405 - val_loss: 0.2401 - val_acc: 0.9000\n",
      "Epoch 15/30\n",
      "100/100 [==============================] - 5s 52ms/step - loss: 0.1622 - acc: 0.9420 - val_loss: 0.2354 - val_acc: 0.9050\n",
      "Epoch 16/30\n",
      "100/100 [==============================] - 5s 52ms/step - loss: 0.1551 - acc: 0.9460 - val_loss: 0.2344 - val_acc: 0.9040\n",
      "Epoch 17/30\n",
      "100/100 [==============================] - 5s 52ms/step - loss: 0.1518 - acc: 0.9460 - val_loss: 0.2385 - val_acc: 0.8990\n",
      "Epoch 18/30\n",
      "100/100 [==============================] - 5s 53ms/step - loss: 0.1466 - acc: 0.9510 - val_loss: 0.2342 - val_acc: 0.9050\n",
      "Epoch 19/30\n",
      "100/100 [==============================] - 5s 52ms/step - loss: 0.1385 - acc: 0.9535 - val_loss: 0.2432 - val_acc: 0.8950\n",
      "Epoch 20/30\n",
      "100/100 [==============================] - 5s 53ms/step - loss: 0.1349 - acc: 0.9560 - val_loss: 0.2324 - val_acc: 0.9050\n",
      "Epoch 21/30\n",
      "100/100 [==============================] - 6s 57ms/step - loss: 0.1258 - acc: 0.9575 - val_loss: 0.2329 - val_acc: 0.9070\n",
      "Epoch 22/30\n",
      "100/100 [==============================] - 5s 52ms/step - loss: 0.1242 - acc: 0.9580 - val_loss: 0.2395 - val_acc: 0.8990\n",
      "Epoch 23/30\n",
      "100/100 [==============================] - 5s 53ms/step - loss: 0.1147 - acc: 0.9600 - val_loss: 0.2540 - val_acc: 0.8900\n",
      "Epoch 24/30\n",
      "100/100 [==============================] - 5s 53ms/step - loss: 0.1102 - acc: 0.9635 - val_loss: 0.2328 - val_acc: 0.9030\n",
      "Epoch 25/30\n",
      "100/100 [==============================] - 5s 53ms/step - loss: 0.1090 - acc: 0.9655 - val_loss: 0.2345 - val_acc: 0.9030\n",
      "Epoch 26/30\n",
      "100/100 [==============================] - 5s 51ms/step - loss: 0.1006 - acc: 0.9690 - val_loss: 0.2323 - val_acc: 0.9030\n",
      "Epoch 27/30\n",
      "100/100 [==============================] - 5s 52ms/step - loss: 0.0966 - acc: 0.9685 - val_loss: 0.2361 - val_acc: 0.9010ETA: 0s - loss: 0.0939 - acc:  - ETA: 0s - loss: 0.0980 - acc\n",
      "Epoch 28/30\n",
      "100/100 [==============================] - 5s 51ms/step - loss: 0.0947 - acc: 0.9740 - val_loss: 0.2434 - val_acc: 0.8990\n",
      "Epoch 29/30\n",
      "100/100 [==============================] - 5s 51ms/step - loss: 0.0914 - acc: 0.9725 - val_loss: 0.2505 - val_acc: 0.8970\n",
      "Epoch 30/30\n",
      "100/100 [==============================] - 5s 50ms/step - loss: 0.0888 - acc: 0.9735 - val_loss: 0.2360 - val_acc: 0.9030\n"
     ]
    }
   ],
   "source": [
    "history = model.fit(train_features, train_labels,\n",
    "                    epochs=30,\n",
    "                    batch_size=20,\n",
    "                    validation_data=(validation_features, validation_labels))"
   ]
  },
  {
   "cell_type": "code",
   "execution_count": 12,
   "id": "broad-corruption",
   "metadata": {},
   "outputs": [
    {
     "data": {
      "image/png": "[encoded data removed]",
      "text/plain": [
       "<Figure size 432x288 with 1 Axes>"
      ]
     },
     "metadata": {
      "needs_background": "light"
     },
     "output_type": "display_data"
    },
    {
     "data": {
      "image/png": "[encoded data removed]",
      "text/plain": [
       "<Figure size 432x288 with 1 Axes>"
      ]
     },
     "metadata": {
      "needs_background": "light"
     },
     "output_type": "display_data"
    }
   ],
   "source": [
    "import matplotlib.pyplot as plt\n",
    "acc = history.history['acc']\n",
    "val_acc = history.history['val_acc']\n",
    "loss = history.history['loss']\n",
    "val_loss = history.history['val_loss']\n",
    "epochs = range(1, len(acc) + 1)\n",
    "plt.plot(epochs, acc, 'bo', label='Training acc')\n",
    "plt.plot(epochs, val_acc, 'b', label='Validation acc')\n",
    "plt.title('Training and validation accuracy')\n",
    "plt.legend()\n",
    "plt.figure()\n",
    "plt.plot(epochs, loss, 'bo', label='Training loss')\n",
    "plt.plot(epochs, val_loss, 'b', label='Validation loss')\n",
    "plt.title('Training and validation loss')\n",
    "plt.legend()\n",
    "plt.show()"
   ]
  },
  {
   "cell_type": "markdown",
   "id": "chinese-philosophy",
   "metadata": {},
   "source": [
    "#### Fine Tuning "
   ]
  },
  {
   "cell_type": "code",
   "execution_count": 13,
   "id": "distant-stuart",
   "metadata": {},
   "outputs": [],
   "source": [
    "conv_base.trainable = True\n",
    "set_trainable = False\n",
    "for layer in conv_base.layers:\n",
    "    if layer.name == 'block5_conv1':\n",
    "        set_trainable = True\n",
    "    if set_trainable:\n",
    "        layer.trainable = True\n",
    "    else:\n",
    "        layer.trainable = False"
   ]
  },
  {
   "cell_type": "code",
   "execution_count": 14,
   "id": "assisted-contemporary",
   "metadata": {},
   "outputs": [],
   "source": [
    "model.compile(loss='binary_crossentropy',\n",
    "                optimizer=optimizers.RMSprop(lr=1e-5),\n",
    "                metrics=['acc'])"
   ]
  },
  {
   "cell_type": "code",
   "execution_count": 15,
   "id": "theoretical-aurora",
   "metadata": {},
   "outputs": [
    {
     "name": "stdout",
     "output_type": "stream",
     "text": [
      "Epoch 1/30\n",
      "100/100 [==============================] - 5s 51ms/step - loss: 0.0830 - acc: 0.9795 - val_loss: 0.2376 - val_acc: 0.9030\n",
      "Epoch 2/30\n",
      "100/100 [==============================] - 4s 45ms/step - loss: 0.0803 - acc: 0.9775 - val_loss: 0.2427 - val_acc: 0.8990\n",
      "Epoch 3/30\n",
      "100/100 [==============================] - 4s 45ms/step - loss: 0.0777 - acc: 0.9805 - val_loss: 0.2412 - val_acc: 0.9000\n",
      "Epoch 4/30\n",
      "100/100 [==============================] - 6s 60ms/step - loss: 0.0791 - acc: 0.9745 - val_loss: 0.2369 - val_acc: 0.9020775 - acc: 0.9 - ETA: 0s - loss: 0.0792 - acc\n",
      "Epoch 5/30\n",
      "100/100 [==============================] - 5s 51ms/step - loss: 0.0746 - acc: 0.9830 - val_loss: 0.2453 - val_acc: 0.8980\n",
      "Epoch 6/30\n",
      "100/100 [==============================] - 5s 47ms/step - loss: 0.0736 - acc: 0.9785 - val_loss: 0.2393 - val_acc: 0.9020\n",
      "Epoch 7/30\n",
      "100/100 [==============================] - 4s 44ms/step - loss: 0.0719 - acc: 0.9835 - val_loss: 0.2394 - val_acc: 0.9030\n",
      "Epoch 8/30\n",
      "100/100 [==============================] - 4s 44ms/step - loss: 0.0695 - acc: 0.9820 - val_loss: 0.2499 - val_acc: 0.9020\n",
      "Epoch 9/30\n",
      "100/100 [==============================] - 4s 45ms/step - loss: 0.0682 - acc: 0.9830 - val_loss: 0.2448 - val_acc: 0.9000\n",
      "Epoch 10/30\n",
      "100/100 [==============================] - 4s 43ms/step - loss: 0.0676 - acc: 0.9830 - val_loss: 0.2490 - val_acc: 0.9000\n",
      "Epoch 11/30\n",
      "100/100 [==============================] - 4s 43ms/step - loss: 0.0671 - acc: 0.9805 - val_loss: 0.2489 - val_acc: 0.8990\n",
      "Epoch 12/30\n",
      "100/100 [==============================] - 4s 43ms/step - loss: 0.0659 - acc: 0.9835 - val_loss: 0.2448 - val_acc: 0.9050\n",
      "Epoch 13/30\n",
      "100/100 [==============================] - 4s 44ms/step - loss: 0.0635 - acc: 0.9860 - val_loss: 0.2483 - val_acc: 0.9030\n",
      "Epoch 14/30\n",
      "100/100 [==============================] - 4s 44ms/step - loss: 0.0636 - acc: 0.9875 - val_loss: 0.2507 - val_acc: 0.9030\n",
      "Epoch 15/30\n",
      "100/100 [==============================] - 4s 44ms/step - loss: 0.0609 - acc: 0.9855 - val_loss: 0.2435 - val_acc: 0.9020\n",
      "Epoch 16/30\n",
      "100/100 [==============================] - 4s 44ms/step - loss: 0.0609 - acc: 0.9885 - val_loss: 0.2480 - val_acc: 0.9040\n",
      "Epoch 17/30\n",
      "100/100 [==============================] - 4s 44ms/step - loss: 0.0546 - acc: 0.9890 - val_loss: 0.2509 - val_acc: 0.9030\n",
      "Epoch 18/30\n",
      "100/100 [==============================] - 4s 44ms/step - loss: 0.0570 - acc: 0.9860 - val_loss: 0.2500 - val_acc: 0.9030\n",
      "Epoch 19/30\n",
      "100/100 [==============================] - 4s 44ms/step - loss: 0.0558 - acc: 0.9870 - val_loss: 0.2523 - val_acc: 0.9030\n",
      "Epoch 20/30\n",
      "100/100 [==============================] - 4s 44ms/step - loss: 0.0524 - acc: 0.9890 - val_loss: 0.2462 - val_acc: 0.9030\n",
      "Epoch 21/30\n",
      "100/100 [==============================] - 4s 44ms/step - loss: 0.0540 - acc: 0.9870 - val_loss: 0.2534 - val_acc: 0.9020\n",
      "Epoch 22/30\n",
      "100/100 [==============================] - 4s 44ms/step - loss: 0.0522 - acc: 0.9900 - val_loss: 0.2521 - val_acc: 0.9030\n",
      "Epoch 23/30\n",
      "100/100 [==============================] - 4s 45ms/step - loss: 0.0499 - acc: 0.9895 - val_loss: 0.2527 - val_acc: 0.9050\n",
      "Epoch 24/30\n",
      "100/100 [==============================] - 4s 44ms/step - loss: 0.0512 - acc: 0.9900 - val_loss: 0.2519 - val_acc: 0.9000\n",
      "Epoch 25/30\n",
      "100/100 [==============================] - 4s 44ms/step - loss: 0.0494 - acc: 0.9890 - val_loss: 0.2658 - val_acc: 0.9000\n",
      "Epoch 26/30\n",
      "100/100 [==============================] - 4s 44ms/step - loss: 0.0493 - acc: 0.9890 - val_loss: 0.2582 - val_acc: 0.9030\n",
      "Epoch 27/30\n",
      "100/100 [==============================] - 6s 62ms/step - loss: 0.0470 - acc: 0.9920 - val_loss: 0.2543 - val_acc: 0.9050\n",
      "Epoch 28/30\n",
      "100/100 [==============================] - 5s 47ms/step - loss: 0.0451 - acc: 0.9920 - val_loss: 0.2554 - val_acc: 0.9030\n",
      "Epoch 29/30\n",
      "100/100 [==============================] - 6s 55ms/step - loss: 0.0456 - acc: 0.9895 - val_loss: 0.2558 - val_acc: 0.9030\n",
      "Epoch 30/30\n",
      "100/100 [==============================] - 5s 53ms/step - loss: 0.0434 - acc: 0.9930 - val_loss: 0.2533 - val_acc: 0.9020\n"
     ]
    }
   ],
   "source": [
    "history2 = model.fit(train_features, train_labels,\n",
    "                    epochs=30,\n",
    "                    batch_size=20,\n",
    "                    validation_data=(validation_features, validation_labels))"
   ]
  },
  {
   "cell_type": "code",
   "execution_count": 16,
   "id": "external-layer",
   "metadata": {},
   "outputs": [
    {
     "data": {
      "image/png": "[encoded data removed]",
      "text/plain": [
       "<Figure size 432x288 with 1 Axes>"
      ]
     },
     "metadata": {
      "needs_background": "light"
     },
     "output_type": "display_data"
    },
    {
     "data": {
      "image/png": "[encoded data removed]",
      "text/plain": [
       "<Figure size 432x288 with 1 Axes>"
      ]
     },
     "metadata": {
      "needs_background": "light"
     },
     "output_type": "display_data"
    }
   ],
   "source": [
    "acc = history.history['acc']\n",
    "val_acc = history.history['val_acc']\n",
    "loss = history.history['loss']\n",
    "val_loss = history.history['val_loss']\n",
    "epochs = range(1, len(acc) + 1)\n",
    "plt.plot(epochs, acc, 'bo', label='Training acc')\n",
    "plt.plot(epochs, val_acc, 'b', label='Validation acc')\n",
    "plt.title('Training and validation accuracy')\n",
    "plt.legend()\n",
    "plt.figure()\n",
    "plt.plot(epochs, loss, 'bo', label='Training loss')\n",
    "plt.plot(epochs, val_loss, 'b', label='Validation loss')\n",
    "plt.title('Training and validation loss')\n",
    "plt.legend()\n",
    "plt.show()"
   ]
  },
  {
   "cell_type": "code",
   "execution_count": 18,
   "id": "respective-berkeley",
   "metadata": {},
   "outputs": [
    {
     "name": "stdout",
     "output_type": "stream",
     "text": [
      "32/32 [==============================] - 0s 8ms/step - loss: 0.2734 - acc: 0.8840\n",
      "test acc: 0.8840000033378601\n"
     ]
    }
   ],
   "source": [
    "test_loss, test_acc = model.evaluate(test_features, test_labels)\n",
    "print('test acc:', test_acc)"
   ]
  },
  {
   "cell_type": "code",
   "execution_count": null,
   "id": "square-bankruptcy",
   "metadata": {},
   "outputs": [],
   "source": []
  }
 ],
 "metadata": {
  "kernelspec": {
   "display_name": "Python 3",
   "language": "python",
   "name": "python3"
  },
  "language_info": {
   "codemirror_mode": {
    "name": "ipython",
    "version": 3
   },
   "file_extension": ".py",
   "mimetype": "text/x-python",
   "name": "python",
   "nbconvert_exporter": "python",
   "pygments_lexer": "ipython3",
   "version": "3.8.8"
  }
 },
 "nbformat": 4,
 "nbformat_minor": 5
}
